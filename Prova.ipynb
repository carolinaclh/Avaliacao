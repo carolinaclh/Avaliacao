{
  "nbformat": 4,
  "nbformat_minor": 0,
  "metadata": {
    "colab": {
      "provenance": [],
      "authorship_tag": "ABX9TyPcu+nDcuMv50erxwSvCt1v",
      "include_colab_link": true
    },
    "kernelspec": {
      "name": "python3",
      "display_name": "Python 3"
    },
    "language_info": {
      "name": "python"
    }
  },
  "cells": [
    {
      "cell_type": "markdown",
      "metadata": {
        "id": "view-in-github",
        "colab_type": "text"
      },
      "source": [
        "<a href=\"https://colab.research.google.com/github/carolinaclh/Avaliacao/blob/main/Prova.ipynb\" target=\"_parent\"><img src=\"https://colab.research.google.com/assets/colab-badge.svg\" alt=\"Open In Colab\"/></a>"
      ]
    },
    {
      "cell_type": "code",
      "execution_count": null,
      "metadata": {
        "id": "N25rVCYsoHu_"
      },
      "outputs": [],
      "source": [
        "# Empresa de programação\n",
        "# funcionarios do tse, responsaveis por criar o codigo fonte da urna eletrolica\n",
        "# 4 vereadores; 2 passam\n",
        "#2 prefeitos; 1 passa\n",
        "# o mais votado passa\n",
        "# Big Big; Tirulipa, Empata foda, Maria Escura\n",
        "# Junin Matador de Porco, Ze Niltin Cria de BH\n",
        "\n",
        "controle = \"s\"\n",
        "print(\"================ URNA ELETRÔNICA ================\")\n",
        "print()\n",
        "print(\"* Votação *\")\n",
        "print()\n",
        "print(\"\"\"Candidatos para vereador:\n",
        "      * Vote 6919 para Big Big;\n",
        "      * Vote 9652 para Tirulipa;\n",
        "      * Vote 0969 para Empata Foda;\n",
        "      * Vote 0209 para Maria Escura;\n",
        "      \"\"\")\n",
        "\n",
        "print(\"\"\"Candidatos para prefeito:\n",
        "      * Vote 17 para Junin Matador de Pombo;\n",
        "      * Vote 22 para Ze Niltin Cria de BH soh;\n",
        "      \"\"\")\n",
        "print(\"*Votação para vereador\")\n",
        "print()\n",
        "\n",
        "for controle in range(0,20):\n",
        "  while controle != \"n\":\n",
        "    candidato_v = int(input(\"Digite o número correspondente ao candidato que você deseja votar para vereador: \"))\n",
        "    confirmacao = input(\"\"\"Deseja confirmar? Digite \"sim\" para continuar; para cancelar, digite \"nao\": \"\"\")\n",
        "    if confirmacao == \"nao\":\n",
        "      candidato_v = int(input(\"Digite o número correspondente ao candidato que você deseja votar para vereador: \"))\n",
        "      confirmacao = input(\"\"\"Deseja confirmar? Digite \"sim\" para continuar; para cancelar, digite \"nao\": \"\"\")\n",
        "    else:\n",
        "      print()\n",
        "      print(\"*Votação para prefeito\")\n",
        "      print()\n",
        "    candidato_p = int(input(\"Digite o número correspondente ao candidato que você deseja votar para prefeito: \"))\n",
        "    confirmacao = input(\"\"\"Deseja confirmar? Digite \"sim\" para continuar; para cancelar, digite \"nao\": \"\"\")\n",
        "    if confirmacao == \"nao\":\n",
        "      candidato_v = int(input(\"Digite o número correspondente ao candidato que você deseja votar para prefeito: \"))\n",
        "      confirmacao = input(\"\"\"Deseja confirmar? Digite \"sim\" para continuar; para cancelar, digite \"nao\": \"\"\")\n",
        "  print(\"Votação encerrada; Obrigada por votar\")\n",
        "\n",
        "\n"
      ]
    }
  ]
}