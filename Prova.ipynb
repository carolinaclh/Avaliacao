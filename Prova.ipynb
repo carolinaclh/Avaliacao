{
  "nbformat": 4,
  "nbformat_minor": 0,
  "metadata": {
    "colab": {
      "provenance": [],
      "authorship_tag": "ABX9TyMJn/E9/uaMYtKPMMwoFf5t",
      "include_colab_link": true
    },
    "kernelspec": {
      "name": "python3",
      "display_name": "Python 3"
    },
    "language_info": {
      "name": "python"
    }
  },
  "cells": [
    {
      "cell_type": "markdown",
      "metadata": {
        "id": "view-in-github",
        "colab_type": "text"
      },
      "source": [
        "<a href=\"https://colab.research.google.com/github/carolinaclh/Avaliacao/blob/main/Prova.ipynb\" target=\"_parent\"><img src=\"https://colab.research.google.com/assets/colab-badge.svg\" alt=\"Open In Colab\"/></a>"
      ]
    },
    {
      "cell_type": "code",
      "execution_count": 2,
      "metadata": {
        "id": "N25rVCYsoHu_",
        "colab": {
          "base_uri": "https://localhost:8080/"
        },
        "outputId": "5da4dbcf-80e4-4115-a54c-bb88f8c0c680"
      },
      "outputs": [
        {
          "output_type": "stream",
          "name": "stdout",
          "text": [
            "================ URNA ELETRÔNICA ================\n",
            "\n",
            "* Votação *\n",
            "\n",
            "Candidatos para vereador:\n",
            "      * Vote 6919 para Big Big;\n",
            "      * Vote 9652 para Tirulipa;\n",
            "      * Vote 1540 para Empata Foda;\n",
            "      * Vote 0209 para Maria Escura;\n",
            "      \n",
            "Candidatos para prefeito:\n",
            "      * Vote 17 para Junin Matador de Pombo;\n",
            "      * Vote 22 para Ze Niltin Cria de BH;\n",
            "      \n",
            "*Votação para vereador\n",
            "\n"
          ]
        }
      ],
      "source": [
        "# Empresa de programação\n",
        "# funcionarios do tse, responsaveis por criar o codigo fonte da urna eletrolica\n",
        "# 4 vereadores; 2 passam\n",
        "#2 prefeitos; 1 passa\n",
        "# o mais votado passa\n",
        "# Big Big; Tirulipa, Empata foda, Maria Escura\n",
        "# Junin Matador de Porco, Ze Niltin Cria de BH\n",
        "\n",
        "print(\"================ URNA ELETRÔNICA ================\")\n",
        "print()\n",
        "print(\"* Votação *\")\n",
        "print()\n",
        "print(\"\"\"Candidatos para vereador:\n",
        "      * Vote 6919 para Big Big;\n",
        "      * Vote 9652 para Tirulipa;\n",
        "      * Vote 1540 para Empata Foda;\n",
        "      * Vote 0209 para Maria Escura;\n",
        "      \"\"\")\n",
        "\n",
        "print(\"\"\"Candidatos para prefeito:\n",
        "      * Vote 17 para Junin Matador de Pombo;\n",
        "      * Vote 22 para Ze Niltin Cria de BH;\n",
        "      \"\"\")\n",
        "print(\"*Votação para vereador\")\n",
        "print()\n"
      ]
    }
  ]
}